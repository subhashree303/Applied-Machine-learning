{
 "cells": [
  {
   "cell_type": "code",
   "execution_count": 2,
   "metadata": {},
   "outputs": [
    {
     "name": "stdout",
     "output_type": "stream",
     "text": [
      "d:\\cmi\\sem 4\\AppliedML\\ass2\n"
     ]
    }
   ],
   "source": [
    "%cd ass2\n"
   ]
  },
  {
   "cell_type": "code",
   "execution_count": 3,
   "metadata": {},
   "outputs": [
    {
     "name": "stdout",
     "output_type": "stream",
     "text": [
      "Reinitialized existing Git repository in D:/cmi/sem 4/AppliedML/ass2/.git/\n"
     ]
    }
   ],
   "source": [
    "!git init"
   ]
  },
  {
   "cell_type": "code",
   "execution_count": 4,
   "metadata": {},
   "outputs": [
    {
     "name": "stdout",
     "output_type": "stream",
     "text": [
      "Initialized DVC repository.\n",
      "\n",
      "You can now commit the changes to git.\n",
      "\n",
      "+---------------------------------------------------------------------+\n",
      "|                                                                     |\n",
      "|        DVC has enabled anonymous aggregate usage analytics.         |\n",
      "|     Read the analytics documentation (and how to opt-out) here:     |\n",
      "|             <https://dvc.org/doc/user-guide/analytics>              |\n",
      "|                                                                     |\n",
      "+---------------------------------------------------------------------+\n",
      "\n",
      "What's next?\n",
      "------------\n",
      "- Check out the documentation: <https://dvc.org/doc>\n",
      "- Get help and share ideas: <https://dvc.org/chat>\n",
      "- Star us on GitHub: <https://github.com/iterative/dvc>\n"
     ]
    }
   ],
   "source": [
    "! dvc init --subdir"
   ]
  },
  {
   "cell_type": "code",
   "execution_count": 5,
   "metadata": {},
   "outputs": [
    {
     "name": "stdout",
     "output_type": "stream",
     "text": [
      "Setting 'storage' as a default remote.\n"
     ]
    }
   ],
   "source": [
    "!dvc remote add -d storage gdrive://1SG-9cQO61lDwH6NPFqRdPzXum7At5pW8"
   ]
  },
  {
   "cell_type": "code",
   "execution_count": 7,
   "metadata": {},
   "outputs": [
    {
     "name": "stdout",
     "output_type": "stream",
     "text": [
      "d:\\cmi\\sem 4\\AppliedML\\ass2\n"
     ]
    }
   ],
   "source": [
    "%cd ass2"
   ]
  },
  {
   "cell_type": "code",
   "execution_count": 8,
   "metadata": {},
   "outputs": [],
   "source": [
    "!git add .dvc/config"
   ]
  },
  {
   "cell_type": "code",
   "execution_count": 11,
   "metadata": {},
   "outputs": [],
   "source": [
    "!git config  user.email \"subhashreesaha303@gmail.com\"\n",
    "!git config  user.name \"subhashree303\""
   ]
  },
  {
   "cell_type": "code",
   "execution_count": 12,
   "metadata": {},
   "outputs": [
    {
     "name": "stdout",
     "output_type": "stream",
     "text": [
      "[master (root-commit) 87aca21] Configure Google Drive as DVC remote storage\n",
      " 3 files changed, 10 insertions(+)\n",
      " create mode 100644 .dvc/.gitignore\n",
      " create mode 100644 .dvc/config\n",
      " create mode 100644 .dvcignore\n"
     ]
    }
   ],
   "source": [
    "!git commit -m \"Configure Google Drive as DVC remote storage\""
   ]
  },
  {
   "cell_type": "code",
   "execution_count": 16,
   "metadata": {},
   "outputs": [
    {
     "name": "stderr",
     "output_type": "stream",
     "text": [
      "[nltk_data] Downloading package punkt to\n",
      "[nltk_data]     C:\\Users\\subha\\AppData\\Roaming\\nltk_data...\n",
      "[nltk_data]   Package punkt is already up-to-date!\n",
      "[nltk_data] Downloading package stopwords to\n",
      "[nltk_data]     C:\\Users\\subha\\AppData\\Roaming\\nltk_data...\n",
      "[nltk_data]   Package stopwords is already up-to-date!\n",
      "[nltk_data] Downloading package wordnet to\n",
      "[nltk_data]     C:\\Users\\subha\\AppData\\Roaming\\nltk_data...\n",
      "[nltk_data]   Package wordnet is already up-to-date!\n"
     ]
    },
    {
     "data": {
      "text/plain": [
       "True"
      ]
     },
     "execution_count": 16,
     "metadata": {},
     "output_type": "execute_result"
    }
   ],
   "source": [
    "import pandas as pd\n",
    "from sklearn.model_selection import train_test_split\n",
    "import re\n",
    "import nltk\n",
    "from nltk.corpus import stopwords\n",
    "from nltk.stem import WordNetLemmatizer\n",
    "from nltk.tokenize import word_tokenize\n",
    "\n",
    "\n",
    "nltk.download('punkt')\n",
    "nltk.download('stopwords')\n",
    "nltk.download('wordnet')"
   ]
  },
  {
   "cell_type": "code",
   "execution_count": 22,
   "metadata": {},
   "outputs": [],
   "source": [
    "# Load the raw data\n",
    "raw_data = pd.read_csv('d:/cmi/sem 4/AppliedML/ass2/data/emails.csv')"
   ]
  },
  {
   "cell_type": "code",
   "execution_count": 23,
   "metadata": {},
   "outputs": [],
   "source": [
    "raw_data.to_csv('d:/cmi/sem 4/AppliedML/ass2/data/raw_data.csv', index=False)"
   ]
  },
  {
   "cell_type": "code",
   "execution_count": 24,
   "metadata": {},
   "outputs": [],
   "source": [
    "def preprocess_text(text):\n",
    "    text = text.lower()#converting to lowercase\n",
    "    text = text.removeprefix('subject:')# removing the word subject from every text\n",
    "    text = re.sub(r'http[s]?://\\S+', '', text)#removing URLs\n",
    "    text = re.sub(r'\\S*@\\S*\\s?', '', text)#removing emails\n",
    "    text = re.sub(r'[^a-z0-9\\s]', '', text)#removing punctuation marks and special characters\n",
    "\n",
    "    \n",
    "    words = word_tokenize(text)\n",
    "    words = [word for word in words if word.isalpha() and word not in stopwords.words('english')]\n",
    "    return ' '.join(words)"
   ]
  },
  {
   "cell_type": "code",
   "execution_count": 25,
   "metadata": {},
   "outputs": [],
   "source": [
    "raw_data['processed_text'] = raw_data['text'].apply(preprocess_text)"
   ]
  },
  {
   "cell_type": "code",
   "execution_count": 26,
   "metadata": {},
   "outputs": [],
   "source": [
    "# Split the data into train/validation/test \n",
    "train, test = train_test_split(raw_data, test_size=0.2, random_state=51)\n",
    "train, val = train_test_split(train, test_size=0.2, random_state=51)"
   ]
  },
  {
   "cell_type": "code",
   "execution_count": 27,
   "metadata": {},
   "outputs": [],
   "source": [
    "# Save the splits in the 'data' folder\n",
    "train.to_csv('d:/cmi/sem 4/AppliedML/ass2/data/train.csv', index=False)\n",
    "val.to_csv('d:/cmi/sem 4/AppliedML/ass2/data/validation.csv', index=False)\n",
    "test.to_csv('d:/cmi/sem 4/AppliedML/ass2/data/test.csv', index=False)"
   ]
  },
  {
   "cell_type": "code",
   "execution_count": 28,
   "metadata": {},
   "outputs": [
    {
     "name": "stdout",
     "output_type": "stream",
     "text": [
      "d:\\cmi\\sem 4\\AppliedML\\ass2\\data\n"
     ]
    }
   ],
   "source": [
    "%cd data"
   ]
  },
  {
   "cell_type": "code",
   "execution_count": 29,
   "metadata": {},
   "outputs": [
    {
     "name": "stdout",
     "output_type": "stream",
     "text": [
      "\n",
      "To track the changes with git, run:\n",
      "\n",
      "\tgit add validation.csv.dvc test.csv.dvc raw_data.csv.dvc .gitignore train.csv.dvc\n",
      "\n",
      "To enable auto staging, run:\n",
      "\n",
      "\tdvc config core.autostage true\n"
     ]
    },
    {
     "name": "stderr",
     "output_type": "stream",
     "text": [
      "⠋ Checking graph\n",
      "\n"
     ]
    }
   ],
   "source": [
    "!dvc add raw_data.csv train.csv validation.csv test.csv"
   ]
  },
  {
   "cell_type": "code",
   "execution_count": 30,
   "metadata": {},
   "outputs": [],
   "source": [
    "!git add raw_data.csv.dvc train.csv.dvc validation.csv.dvc test.csv.dvc .gitignore"
   ]
  },
  {
   "cell_type": "code",
   "execution_count": 31,
   "metadata": {},
   "outputs": [
    {
     "name": "stdout",
     "output_type": "stream",
     "text": [
      "[master 715706b] Track data with DVC\n",
      " 5 files changed, 24 insertions(+)\n",
      " create mode 100644 data/.gitignore\n",
      " create mode 100644 data/raw_data.csv.dvc\n",
      " create mode 100644 data/test.csv.dvc\n",
      " create mode 100644 data/train.csv.dvc\n",
      " create mode 100644 data/validation.csv.dvc\n"
     ]
    }
   ],
   "source": [
    "!git commit -m \"Track data with DVC\""
   ]
  },
  {
   "cell_type": "code",
   "execution_count": 32,
   "metadata": {},
   "outputs": [],
   "source": [
    "!dvc config core.autostage true"
   ]
  },
  {
   "cell_type": "code",
   "execution_count": 33,
   "metadata": {},
   "outputs": [
    {
     "name": "stdout",
     "output_type": "stream",
     "text": [
      "4 files pushed\n"
     ]
    }
   ],
   "source": [
    "!dvc push"
   ]
  },
  {
   "cell_type": "code",
   "execution_count": 37,
   "metadata": {},
   "outputs": [
    {
     "name": "stdout",
     "output_type": "stream",
     "text": [
      "d:\\cmi\\sem 4\\AppliedML\\ass2\\src\n"
     ]
    }
   ],
   "source": [
    "%cd src"
   ]
  },
  {
   "cell_type": "code",
   "execution_count": null,
   "metadata": {},
   "outputs": [],
   "source": []
  },
  {
   "cell_type": "code",
   "execution_count": 39,
   "metadata": {},
   "outputs": [],
   "source": [
    "# Update the splits with a different random seed\n",
    "train, test = train_test_split(raw_data, test_size=0.2, random_state=24)\n",
    "train, val = train_test_split(train, test_size=0.25, random_state=24)"
   ]
  },
  {
   "cell_type": "code",
   "execution_count": 40,
   "metadata": {},
   "outputs": [],
   "source": [
    "# Save the updated splits\n",
    "train.to_csv('d:/cmi/sem 4/AppliedML/ass2/data/train.csv', index=False)\n",
    "val.to_csv('d:/cmi/sem 4/AppliedML/ass2/data/validation.csv', index=False)\n",
    "test.to_csv('d:/cmi/sem 4/AppliedML/ass2/data/test.csv', index=False)"
   ]
  },
  {
   "cell_type": "code",
   "execution_count": 43,
   "metadata": {},
   "outputs": [
    {
     "name": "stdout",
     "output_type": "stream",
     "text": [
      "d:\\cmi\\sem 4\\AppliedML\\ass2\\data\n"
     ]
    }
   ],
   "source": [
    "%cd data"
   ]
  },
  {
   "cell_type": "code",
   "execution_count": 44,
   "metadata": {},
   "outputs": [
    {
     "name": "stderr",
     "output_type": "stream",
     "text": [
      "⠋ Checking graph\n",
      "\n"
     ]
    }
   ],
   "source": [
    "# Add the updated datasets to DVC\n",
    "!dvc add train.csv validation.csv test.csv"
   ]
  },
  {
   "cell_type": "code",
   "execution_count": 45,
   "metadata": {},
   "outputs": [],
   "source": [
    "!git add train.csv.dvc validation.csv.dvc test.csv.dvc"
   ]
  },
  {
   "cell_type": "code",
   "execution_count": 46,
   "metadata": {},
   "outputs": [
    {
     "name": "stdout",
     "output_type": "stream",
     "text": [
      "[master 555e8a1] Update data splits with new random seed\n",
      " 3 files changed, 6 insertions(+), 6 deletions(-)\n"
     ]
    }
   ],
   "source": [
    "!git commit -m \"Update data splits with new random seed\""
   ]
  },
  {
   "cell_type": "code",
   "execution_count": 47,
   "metadata": {},
   "outputs": [
    {
     "name": "stdout",
     "output_type": "stream",
     "text": [
      "3 files pushed\n"
     ]
    }
   ],
   "source": [
    "!dvc push"
   ]
  },
  {
   "cell_type": "code",
   "execution_count": 48,
   "metadata": {},
   "outputs": [
    {
     "name": "stdout",
     "output_type": "stream",
     "text": [
      "commit 555e8a1d2f14264a136be53f289efa4129b2005f\n",
      "Author: subhashree303 <subhashreesaha303@gmail.com>\n",
      "Date:   Tue Feb 20 14:58:19 2024 +0530\n",
      "\n",
      "    Update data splits with new random seed\n",
      "\n",
      "commit 715706b2cfe9cc4c5f67f1d4847b7b53d5ee6dec\n",
      "Author: subhashree303 <subhashreesaha303@gmail.com>\n",
      "Date:   Tue Feb 20 14:52:54 2024 +0530\n",
      "\n",
      "    Track data with DVC\n",
      "\n",
      "commit 87aca2102307b8ea1cd50f268229b3937af4dea7\n",
      "Author: subhashree303 <subhashreesaha303@gmail.com>\n",
      "Date:   Tue Feb 20 14:38:45 2024 +0530\n",
      "\n",
      "    Configure Google Drive as DVC remote storage\n"
     ]
    }
   ],
   "source": [
    "!git log"
   ]
  },
  {
   "cell_type": "code",
   "execution_count": 52,
   "metadata": {},
   "outputs": [
    {
     "name": "stdout",
     "output_type": "stream",
     "text": [
      "d:\\cmi\\sem 4\\AppliedML\\ass2\\data\n"
     ]
    }
   ],
   "source": [
    "%cd data"
   ]
  },
  {
   "cell_type": "code",
   "execution_count": 53,
   "metadata": {},
   "outputs": [
    {
     "name": "stderr",
     "output_type": "stream",
     "text": [
      "Updated 3 paths from db3f3a2\n"
     ]
    }
   ],
   "source": [
    "!git checkout 715706b2cfe9cc4c5f67f1d4847b7b53d5ee6dec train.csv.dvc validation.csv.dvc test.csv.dvc"
   ]
  },
  {
   "cell_type": "code",
   "execution_count": 54,
   "metadata": {},
   "outputs": [
    {
     "name": "stdout",
     "output_type": "stream",
     "text": [
      "M       train.csv\n",
      "M       validation.csv\n",
      "M       test.csv\n"
     ]
    }
   ],
   "source": [
    "\n",
    "!dvc checkout"
   ]
  },
  {
   "cell_type": "code",
   "execution_count": 55,
   "metadata": {},
   "outputs": [
    {
     "name": "stdout",
     "output_type": "stream",
     "text": [
      "Distribution in train.csv: \n",
      "0    2798\n",
      "1     867\n",
      "Name: spam, dtype: int64\n",
      "\n",
      "Distribution in validation.csv: \n",
      "0    686\n",
      "1    231\n",
      "Name: spam, dtype: int64\n",
      "\n",
      "Distribution in test.csv: \n",
      "0    876\n",
      "1    270\n",
      "Name: spam, dtype: int64\n",
      "\n"
     ]
    }
   ],
   "source": [
    "# Print the distribution of the original split\n",
    "for k in ['train', 'validation', 'test']:\n",
    "    df = pd.read_csv(f'd:/cmi/sem 4/AppliedML/ass2/data/{k}.csv')\n",
    "    distn = df['spam'].value_counts()\n",
    "    print(f\"Distribution in {k}.csv: \\n{distn}\\n\")"
   ]
  },
  {
   "cell_type": "code",
   "execution_count": 56,
   "metadata": {},
   "outputs": [
    {
     "name": "stderr",
     "output_type": "stream",
     "text": [
      "Updated 3 paths from a3eb781\n"
     ]
    }
   ],
   "source": [
    "!git checkout 555e8a1d2f14264a136be53f289efa4129b2005f train.csv.dvc validation.csv.dvc test.csv.dvc"
   ]
  },
  {
   "cell_type": "code",
   "execution_count": 57,
   "metadata": {},
   "outputs": [
    {
     "name": "stdout",
     "output_type": "stream",
     "text": [
      "M       test.csv\n",
      "M       validation.csv\n",
      "M       train.csv\n"
     ]
    }
   ],
   "source": [
    "!dvc checkout"
   ]
  },
  {
   "cell_type": "code",
   "execution_count": 58,
   "metadata": {},
   "outputs": [
    {
     "name": "stdout",
     "output_type": "stream",
     "text": [
      "Distribution in train.csv: \n",
      "0    2606\n",
      "1     830\n",
      "Name: spam, dtype: int64\n",
      "\n",
      "Distribution in validation.csv: \n",
      "0    881\n",
      "1    265\n",
      "Name: spam, dtype: int64\n",
      "\n",
      "Distribution in test.csv: \n",
      "0    873\n",
      "1    273\n",
      "Name: spam, dtype: int64\n",
      "\n"
     ]
    }
   ],
   "source": [
    "# Print the distribution of the updated spilt\n",
    "for k in ['train', 'validation', 'test']:\n",
    "    df = pd.read_csv(f'd:/cmi/sem 4/AppliedML/ass2/data/{k}.csv')\n",
    "    distn = df['spam'].value_counts()\n",
    "    print(f\"Distribution in {k}.csv: \\n{distn}\\n\")"
   ]
  },
  {
   "cell_type": "code",
   "execution_count": 59,
   "metadata": {},
   "outputs": [
    {
     "name": "stdout",
     "output_type": "stream",
     "text": [
      " Volume in drive D is New Volume\n",
      " Volume Serial Number is AE05-804D\n",
      "\n",
      " Directory of d:\\cmi\\sem 4\\AppliedML\\ass2\\data\n",
      "\n",
      "20-02-2024  15:04    <DIR>          .\n",
      "20-02-2024  15:04    <DIR>          ..\n",
      "20-02-2024  14:52                55 .gitignore\n",
      "20-02-2024  08:25         8,954,755 emails.csv\n",
      "20-02-2024  14:52         8,959,672 raw_data.csv\n",
      "20-02-2024  14:52               100 raw_data.csv.dvc\n",
      "20-02-2024  15:04         2,875,736 test.csv\n",
      "20-02-2024  15:04                96 test.csv.dvc\n",
      "20-02-2024  15:04         8,637,619 train.csv\n",
      "20-02-2024  15:04                97 train.csv.dvc\n",
      "20-02-2024  15:04         2,980,306 validation.csv\n",
      "20-02-2024  15:04               102 validation.csv.dvc\n",
      "              10 File(s)     32,408,538 bytes\n",
      "               2 Dir(s)  281,697,001,472 bytes free\n"
     ]
    }
   ],
   "source": [
    "%ls"
   ]
  },
  {
   "cell_type": "code",
   "execution_count": null,
   "metadata": {},
   "outputs": [],
   "source": []
  },
  {
   "cell_type": "code",
   "execution_count": null,
   "metadata": {},
   "outputs": [],
   "source": []
  },
  {
   "cell_type": "code",
   "execution_count": null,
   "metadata": {},
   "outputs": [],
   "source": []
  },
  {
   "cell_type": "code",
   "execution_count": null,
   "metadata": {},
   "outputs": [],
   "source": []
  }
 ],
 "metadata": {
  "kernelspec": {
   "display_name": "Python 3",
   "language": "python",
   "name": "python3"
  },
  "language_info": {
   "codemirror_mode": {
    "name": "ipython",
    "version": 3
   },
   "file_extension": ".py",
   "mimetype": "text/x-python",
   "name": "python",
   "nbconvert_exporter": "python",
   "pygments_lexer": "ipython3",
   "version": "3.11.3"
  }
 },
 "nbformat": 4,
 "nbformat_minor": 2
}
